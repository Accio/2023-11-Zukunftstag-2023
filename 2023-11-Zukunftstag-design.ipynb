{
 "cells": [
  {
   "cell_type": "markdown",
   "id": "363a89a3-d29d-4bdc-8118-8845f47705ee",
   "metadata": {},
   "source": [
    "# Zukunftstag 2023\n",
    "\n",
    "Jitao David Zhang, November 2023"
   ]
  },
  {
   "cell_type": "markdown",
   "id": "63655593-c0f2-4e54-8ad3-1a791d7bad69",
   "metadata": {},
   "source": [
    "Wir lernen gemeinsam Jupyter Lab kennen mit eine simulierte klinische Studie. Wir werden die Daten mit Jupyter Notebook analysieren und visualisieren, und die Daten gemeinsam interpretieren.\n",
    "\n",
    "Die Code wurde auf [jupyter.org/try-jupyter](https://jupyter.org/try-jupyter) getestet. Man braucht nur eine Web-browser, um das Program durchzuführen."
   ]
  },
  {
   "cell_type": "markdown",
   "id": "543f8809-5d66-4121-b032-cde4eb672284",
   "metadata": {},
   "source": [
    "## Sicherstellen, dass Jupyter funktioniert"
   ]
  },
  {
   "cell_type": "code",
   "execution_count": 1,
   "id": "3417144d-37e9-46b9-b17d-1420b5ac885c",
   "metadata": {},
   "outputs": [
    {
     "data": {
      "text/plain": [
       "12"
      ]
     },
     "execution_count": 1,
     "metadata": {},
     "output_type": "execute_result"
    }
   ],
   "source": [
    "3 + 9"
   ]
  },
  {
   "cell_type": "code",
   "execution_count": 2,
   "id": "ed84d115-478d-485f-83db-5f97df1cf54d",
   "metadata": {},
   "outputs": [
    {
     "data": {
      "text/plain": [
       "3.0"
      ]
     },
     "execution_count": 2,
     "metadata": {},
     "output_type": "execute_result"
    }
   ],
   "source": [
    "9/3"
   ]
  },
  {
   "cell_type": "code",
   "execution_count": 3,
   "id": "aba781fa-ea66-4fe3-b9e5-d8abb1115be6",
   "metadata": {},
   "outputs": [
    {
     "name": "stdout",
     "output_type": "stream",
     "text": [
      "Hello, David\n"
     ]
    }
   ],
   "source": [
    "my_name = \"David\"\n",
    "welcome = \"Hello, \" + my_name\n",
    "print(welcome)"
   ]
  },
  {
   "cell_type": "code",
   "execution_count": 4,
   "id": "e5c03bde-7b8d-40ac-a247-13c058beaa24",
   "metadata": {},
   "outputs": [],
   "source": [
    "import numpy as np"
   ]
  },
  {
   "cell_type": "code",
   "execution_count": 5,
   "id": "f3f424ed-f71b-4634-a645-ae117b35aedd",
   "metadata": {},
   "outputs": [
    {
     "data": {
      "text/plain": [
       "45"
      ]
     },
     "execution_count": 5,
     "metadata": {},
     "output_type": "execute_result"
    }
   ],
   "source": [
    "my_numbers = range(1, 10)\n",
    "np.sum(my_numbers)"
   ]
  },
  {
   "cell_type": "code",
   "execution_count": 6,
   "id": "599c505b-1c93-473f-b167-7fe32effaaa6",
   "metadata": {},
   "outputs": [
    {
     "data": {
      "text/plain": [
       "4950"
      ]
     },
     "execution_count": 6,
     "metadata": {},
     "output_type": "execute_result"
    }
   ],
   "source": [
    "my_numbers_2 = range(1, 100)\n",
    "np.sum(my_numbers_2)"
   ]
  },
  {
   "cell_type": "markdown",
   "id": "a5991a26-92b9-4c07-8445-0fcc2186c6d0",
   "metadata": {},
   "source": [
    "# Eine klinische Studie simulieren"
   ]
  },
  {
   "cell_type": "code",
   "execution_count": 7,
   "id": "f5c9f8f1-42a7-4024-8006-88ac9fc1395d",
   "metadata": {},
   "outputs": [],
   "source": [
    "import pandas as pd"
   ]
  },
  {
   "cell_type": "code",
   "execution_count": 8,
   "id": "e92b98b9-b200-45a9-83f0-2baaad8e3bda",
   "metadata": {},
   "outputs": [],
   "source": [
    "np.random.seed(1887)"
   ]
  },
  {
   "cell_type": "code",
   "execution_count": 9,
   "id": "a6091a55-212f-4d84-8756-e50e39e82491",
   "metadata": {},
   "outputs": [
    {
     "data": {
      "text/plain": [
       "27"
      ]
     },
     "execution_count": 9,
     "metadata": {},
     "output_type": "execute_result"
    }
   ],
   "source": [
    "names = [\"Emma\", \"Olivia\", \"Emily\", \"James\", \"Daniel\",\n",
    "         \"Benjamin\", \"Michael\", \"Alexander\", \"Samuel\",\n",
    "         \"Isabella\", \"Thomas\", \"Sarah\", \"Charlotte\", \"Elizabeth\",\n",
    "         \"Liam\", \"Mia\", \"Ethan\", \"Ella\", \"Sophia\", \"Joshua\", \"Oliver\", \"Grace\",\n",
    "         \"Anna\", \"Lena\", \"Laila\", \"Emma\", \"Karl\"]\n",
    "len(names)"
   ]
  },
  {
   "cell_type": "code",
   "execution_count": 10,
   "id": "3760f8e2-b7a4-4763-ad35-cc8e11bfce14",
   "metadata": {},
   "outputs": [],
   "source": [
    "pre_g0 = np.random.normal(8, 1.5, size=9)\n",
    "post_g0 = np.random.normal(8, 1.5, size=9)\n",
    "pre_g1 = np.random.normal(8, 1.5, size=9)\n",
    "post_g1 = np.random.normal(7, 1.5, size=9)\n",
    "pre_g2 = np.random.normal(8, 1.5, size=9)\n",
    "post_g2 = np.random.normal(5, 1.5, size=9)\n",
    "pre_all = np.round(np.clip(np.concatenate((pre_g0, pre_g1, pre_g2), axis=None), 0, 10), 1)\n",
    "post_all = np.round(np.clip(np.concatenate((post_g0, post_g1, post_g2), axis=None), 0, 10))"
   ]
  },
  {
   "cell_type": "code",
   "execution_count": 11,
   "id": "94f7b5a6-6cd8-4d0a-b9f2-6213bb03460f",
   "metadata": {},
   "outputs": [],
   "source": [
    "treatments = np.concatenate(([\"PilleA\"] * 9, [\"PilleB\"] * 9, [\"PilleC\"] * 9), axis=None)"
   ]
  },
  {
   "cell_type": "code",
   "execution_count": 12,
   "id": "1733c1f4-3567-4e52-8580-13381d2ea315",
   "metadata": {},
   "outputs": [
    {
     "ename": "ValueError",
     "evalue": "Length of values (30) does not match length of index (27)",
     "output_type": "error",
     "traceback": [
      "\u001b[0;31m---------------------------------------------------------------------------\u001b[0m",
      "\u001b[0;31mValueError\u001b[0m                                Traceback (most recent call last)",
      "Cell \u001b[0;32mIn[12], line 1\u001b[0m\n\u001b[0;32m----> 1\u001b[0m trial_data \u001b[38;5;241m=\u001b[39m pd\u001b[38;5;241m.\u001b[39mDataFrame({\u001b[38;5;124m\"\u001b[39m\u001b[38;5;124mName\u001b[39m\u001b[38;5;124m\"\u001b[39m:names,\n\u001b[1;32m      2\u001b[0m                           \u001b[38;5;124m\"\u001b[39m\u001b[38;5;124mBehandlung\u001b[39m\u001b[38;5;124m\"\u001b[39m: treatments,\n\u001b[1;32m      3\u001b[0m                           \u001b[38;5;124m\"\u001b[39m\u001b[38;5;124mVor\u001b[39m\u001b[38;5;124m\"\u001b[39m: pre_all,\n\u001b[1;32m      4\u001b[0m                           \u001b[38;5;124m\"\u001b[39m\u001b[38;5;124mNach\u001b[39m\u001b[38;5;124m\"\u001b[39m: post_all},\n\u001b[1;32m      5\u001b[0m                          index\u001b[38;5;241m=\u001b[39mnames)\n",
      "File \u001b[0;32m/mnt/projects/mambaforge/envs/learnpy/lib/python3.11/site-packages/pandas/core/frame.py:664\u001b[0m, in \u001b[0;36mDataFrame.__init__\u001b[0;34m(self, data, index, columns, dtype, copy)\u001b[0m\n\u001b[1;32m    658\u001b[0m     mgr \u001b[38;5;241m=\u001b[39m \u001b[38;5;28mself\u001b[39m\u001b[38;5;241m.\u001b[39m_init_mgr(\n\u001b[1;32m    659\u001b[0m         data, axes\u001b[38;5;241m=\u001b[39m{\u001b[38;5;124m\"\u001b[39m\u001b[38;5;124mindex\u001b[39m\u001b[38;5;124m\"\u001b[39m: index, \u001b[38;5;124m\"\u001b[39m\u001b[38;5;124mcolumns\u001b[39m\u001b[38;5;124m\"\u001b[39m: columns}, dtype\u001b[38;5;241m=\u001b[39mdtype, copy\u001b[38;5;241m=\u001b[39mcopy\n\u001b[1;32m    660\u001b[0m     )\n\u001b[1;32m    662\u001b[0m \u001b[38;5;28;01melif\u001b[39;00m \u001b[38;5;28misinstance\u001b[39m(data, \u001b[38;5;28mdict\u001b[39m):\n\u001b[1;32m    663\u001b[0m     \u001b[38;5;66;03m# GH#38939 de facto copy defaults to False only in non-dict cases\u001b[39;00m\n\u001b[0;32m--> 664\u001b[0m     mgr \u001b[38;5;241m=\u001b[39m dict_to_mgr(data, index, columns, dtype\u001b[38;5;241m=\u001b[39mdtype, copy\u001b[38;5;241m=\u001b[39mcopy, typ\u001b[38;5;241m=\u001b[39mmanager)\n\u001b[1;32m    665\u001b[0m \u001b[38;5;28;01melif\u001b[39;00m \u001b[38;5;28misinstance\u001b[39m(data, ma\u001b[38;5;241m.\u001b[39mMaskedArray):\n\u001b[1;32m    666\u001b[0m     \u001b[38;5;28;01mimport\u001b[39;00m \u001b[38;5;21;01mnumpy\u001b[39;00m\u001b[38;5;21;01m.\u001b[39;00m\u001b[38;5;21;01mma\u001b[39;00m\u001b[38;5;21;01m.\u001b[39;00m\u001b[38;5;21;01mmrecords\u001b[39;00m \u001b[38;5;28;01mas\u001b[39;00m \u001b[38;5;21;01mmrecords\u001b[39;00m\n",
      "File \u001b[0;32m/mnt/projects/mambaforge/envs/learnpy/lib/python3.11/site-packages/pandas/core/internals/construction.py:493\u001b[0m, in \u001b[0;36mdict_to_mgr\u001b[0;34m(data, index, columns, dtype, typ, copy)\u001b[0m\n\u001b[1;32m    489\u001b[0m     \u001b[38;5;28;01melse\u001b[39;00m:\n\u001b[1;32m    490\u001b[0m         \u001b[38;5;66;03m# dtype check to exclude e.g. range objects, scalars\u001b[39;00m\n\u001b[1;32m    491\u001b[0m         arrays \u001b[38;5;241m=\u001b[39m [x\u001b[38;5;241m.\u001b[39mcopy() \u001b[38;5;28;01mif\u001b[39;00m \u001b[38;5;28mhasattr\u001b[39m(x, \u001b[38;5;124m\"\u001b[39m\u001b[38;5;124mdtype\u001b[39m\u001b[38;5;124m\"\u001b[39m) \u001b[38;5;28;01melse\u001b[39;00m x \u001b[38;5;28;01mfor\u001b[39;00m x \u001b[38;5;129;01min\u001b[39;00m arrays]\n\u001b[0;32m--> 493\u001b[0m \u001b[38;5;28;01mreturn\u001b[39;00m arrays_to_mgr(arrays, columns, index, dtype\u001b[38;5;241m=\u001b[39mdtype, typ\u001b[38;5;241m=\u001b[39mtyp, consolidate\u001b[38;5;241m=\u001b[39mcopy)\n",
      "File \u001b[0;32m/mnt/projects/mambaforge/envs/learnpy/lib/python3.11/site-packages/pandas/core/internals/construction.py:123\u001b[0m, in \u001b[0;36marrays_to_mgr\u001b[0;34m(arrays, columns, index, dtype, verify_integrity, typ, consolidate)\u001b[0m\n\u001b[1;32m    120\u001b[0m         index \u001b[38;5;241m=\u001b[39m ensure_index(index)\n\u001b[1;32m    122\u001b[0m     \u001b[38;5;66;03m# don't force copy because getting jammed in an ndarray anyway\u001b[39;00m\n\u001b[0;32m--> 123\u001b[0m     arrays \u001b[38;5;241m=\u001b[39m _homogenize(arrays, index, dtype)\n\u001b[1;32m    124\u001b[0m     \u001b[38;5;66;03m# _homogenize ensures\u001b[39;00m\n\u001b[1;32m    125\u001b[0m     \u001b[38;5;66;03m#  - all(len(x) == len(index) for x in arrays)\u001b[39;00m\n\u001b[1;32m    126\u001b[0m     \u001b[38;5;66;03m#  - all(x.ndim == 1 for x in arrays)\u001b[39;00m\n\u001b[0;32m   (...)\u001b[0m\n\u001b[1;32m    129\u001b[0m \n\u001b[1;32m    130\u001b[0m \u001b[38;5;28;01melse\u001b[39;00m:\n\u001b[1;32m    131\u001b[0m     index \u001b[38;5;241m=\u001b[39m ensure_index(index)\n",
      "File \u001b[0;32m/mnt/projects/mambaforge/envs/learnpy/lib/python3.11/site-packages/pandas/core/internals/construction.py:620\u001b[0m, in \u001b[0;36m_homogenize\u001b[0;34m(data, index, dtype)\u001b[0m\n\u001b[1;32m    615\u001b[0m             val \u001b[38;5;241m=\u001b[39m lib\u001b[38;5;241m.\u001b[39mfast_multiget(val, oindex\u001b[38;5;241m.\u001b[39m_values, default\u001b[38;5;241m=\u001b[39mnp\u001b[38;5;241m.\u001b[39mnan)\n\u001b[1;32m    617\u001b[0m         val \u001b[38;5;241m=\u001b[39m sanitize_array(\n\u001b[1;32m    618\u001b[0m             val, index, dtype\u001b[38;5;241m=\u001b[39mdtype, copy\u001b[38;5;241m=\u001b[39m\u001b[38;5;28;01mFalse\u001b[39;00m, raise_cast_failure\u001b[38;5;241m=\u001b[39m\u001b[38;5;28;01mFalse\u001b[39;00m\n\u001b[1;32m    619\u001b[0m         )\n\u001b[0;32m--> 620\u001b[0m         com\u001b[38;5;241m.\u001b[39mrequire_length_match(val, index)\n\u001b[1;32m    622\u001b[0m     homogenized\u001b[38;5;241m.\u001b[39mappend(val)\n\u001b[1;32m    624\u001b[0m \u001b[38;5;28;01mreturn\u001b[39;00m homogenized\n",
      "File \u001b[0;32m/mnt/projects/mambaforge/envs/learnpy/lib/python3.11/site-packages/pandas/core/common.py:571\u001b[0m, in \u001b[0;36mrequire_length_match\u001b[0;34m(data, index)\u001b[0m\n\u001b[1;32m    567\u001b[0m \u001b[38;5;124;03m\"\"\"\u001b[39;00m\n\u001b[1;32m    568\u001b[0m \u001b[38;5;124;03mCheck the length of data matches the length of the index.\u001b[39;00m\n\u001b[1;32m    569\u001b[0m \u001b[38;5;124;03m\"\"\"\u001b[39;00m\n\u001b[1;32m    570\u001b[0m \u001b[38;5;28;01mif\u001b[39;00m \u001b[38;5;28mlen\u001b[39m(data) \u001b[38;5;241m!=\u001b[39m \u001b[38;5;28mlen\u001b[39m(index):\n\u001b[0;32m--> 571\u001b[0m     \u001b[38;5;28;01mraise\u001b[39;00m \u001b[38;5;167;01mValueError\u001b[39;00m(\n\u001b[1;32m    572\u001b[0m         \u001b[38;5;124m\"\u001b[39m\u001b[38;5;124mLength of values \u001b[39m\u001b[38;5;124m\"\u001b[39m\n\u001b[1;32m    573\u001b[0m         \u001b[38;5;124mf\u001b[39m\u001b[38;5;124m\"\u001b[39m\u001b[38;5;124m(\u001b[39m\u001b[38;5;132;01m{\u001b[39;00m\u001b[38;5;28mlen\u001b[39m(data)\u001b[38;5;132;01m}\u001b[39;00m\u001b[38;5;124m) \u001b[39m\u001b[38;5;124m\"\u001b[39m\n\u001b[1;32m    574\u001b[0m         \u001b[38;5;124m\"\u001b[39m\u001b[38;5;124mdoes not match length of index \u001b[39m\u001b[38;5;124m\"\u001b[39m\n\u001b[1;32m    575\u001b[0m         \u001b[38;5;124mf\u001b[39m\u001b[38;5;124m\"\u001b[39m\u001b[38;5;124m(\u001b[39m\u001b[38;5;132;01m{\u001b[39;00m\u001b[38;5;28mlen\u001b[39m(index)\u001b[38;5;132;01m}\u001b[39;00m\u001b[38;5;124m)\u001b[39m\u001b[38;5;124m\"\u001b[39m\n\u001b[1;32m    576\u001b[0m     )\n",
      "\u001b[0;31mValueError\u001b[0m: Length of values (30) does not match length of index (27)"
     ]
    }
   ],
   "source": [
    "trial_data = pd.DataFrame({\"Name\":names,\n",
    "                          \"Behandlung\": treatments,\n",
    "                          \"Vor\": pre_all,\n",
    "                          \"Nach\": post_all},\n",
    "                         index=names)"
   ]
  },
  {
   "cell_type": "code",
   "execution_count": null,
   "id": "f2925a58-e98d-4d00-9cf4-90ef04302239",
   "metadata": {},
   "outputs": [],
   "source": [
    "print(trial_data)"
   ]
  },
  {
   "cell_type": "code",
   "execution_count": null,
   "id": "f94e3880-ca35-4655-8ed3-c02d3b4020fa",
   "metadata": {},
   "outputs": [],
   "source": [
    "trial_data.sort_values(by=[\"Behandlung\", \"Name\"])"
   ]
  },
  {
   "cell_type": "markdown",
   "id": "a1424dbe-92e7-4661-bbcd-40407f12e4f4",
   "metadata": {},
   "source": [
    "## Wie kann man eine Liste von Angaben in einer DateFrame umwandeln?"
   ]
  },
  {
   "cell_type": "code",
   "execution_count": null,
   "id": "701fdad4-d069-4bf9-9d59-6558dcd27efa",
   "metadata": {},
   "outputs": [],
   "source": [
    "person1 = ['David', 'PilleA', 4.7, 4.5]\n",
    "person2 = ['Emma', 'PilleB', 4.5, 4]\n",
    "person3 = ['Matteo', 'PilleC', 4.5, 4]\n",
    "person_df = pd.DataFrame([person1, person2, person3],\n",
    "            columns=['Name', 'Behandlung', 'Vor', 'Nach'])\n",
    "person_df.index = person_df[\"Name\"].tolist()\n",
    "person_df"
   ]
  },
  {
   "cell_type": "markdown",
   "id": "c15cc6e7-55b2-4146-be2e-f727849393e1",
   "metadata": {},
   "source": [
    "## Die Daten mit Abbildungen darstellen"
   ]
  },
  {
   "cell_type": "code",
   "execution_count": null,
   "id": "4221ab0b-9220-4bc7-8b08-e8fffc4351a3",
   "metadata": {},
   "outputs": [],
   "source": [
    "import matplotlib.style as style\n",
    "import matplotlib.pyplot as plt\n",
    "style.use(\"fast\")"
   ]
  },
  {
   "cell_type": "code",
   "execution_count": null,
   "id": "7af0278b-6c06-4337-a818-c918ccc4d1cc",
   "metadata": {},
   "outputs": [],
   "source": [
    "ax = trial_data.plot.bar()\n",
    "plt.xlabel(\"Teilnehmer\")\n",
    "plt.ylabel(\"Schmerzskala\")\n",
    "plt.show()"
   ]
  },
  {
   "cell_type": "code",
   "execution_count": null,
   "id": "2809799c-68cd-4486-96cd-77f642163c8d",
   "metadata": {},
   "outputs": [],
   "source": [
    "ax = trial_data.sort_values(['Behandlung', 'Name']).plot.line(rot=90)\n",
    "ax.set_xticks(range(len(trial_data['Name'])))\n",
    "ax.set_xticklabels(trial_data['Name'])\n",
    "plt.show()"
   ]
  },
  {
   "cell_type": "code",
   "execution_count": null,
   "id": "257802d6-1fd3-47f1-a4c8-48a326409901",
   "metadata": {},
   "outputs": [],
   "source": [
    "trial_data.sort_values(by=[\"Behandlung\", \"Name\"]).plot.bar()"
   ]
  },
  {
   "cell_type": "code",
   "execution_count": null,
   "id": "deb03989-0741-493e-9bdf-4630cebcc2d8",
   "metadata": {},
   "outputs": [],
   "source": [
    "trial_data.boxplot(column=[\"Vor\", \"Nach\"], by=\"Behandlung\")\n",
    "plt.show()"
   ]
  },
  {
   "cell_type": "markdown",
   "id": "1902c709-3dd3-4756-bfe8-3dfd7a470d43",
   "metadata": {},
   "source": [
    "## Mit den Daten arbeiten"
   ]
  },
  {
   "cell_type": "code",
   "execution_count": null,
   "id": "4cf17ae5-9427-49a4-b5b9-de5d2688390e",
   "metadata": {},
   "outputs": [],
   "source": [
    "trial_data[\"Unterschied\"] = trial_data[\"Nach\"] - trial_data[\"Vor\"]\n",
    "print(trial_data)"
   ]
  },
  {
   "cell_type": "code",
   "execution_count": null,
   "id": "2925e4a2-96e4-4b11-81bc-dec7d5db1406",
   "metadata": {},
   "outputs": [],
   "source": [
    "trial_data.sort_values(\"Unterschied\", ascending=False)"
   ]
  },
  {
   "cell_type": "code",
   "execution_count": null,
   "id": "95ce4c9d-ce3f-4296-ba3d-7af09772bc9b",
   "metadata": {},
   "outputs": [],
   "source": [
    "trial_data.boxplot(column=\"Unterschied\", by=\"Behandlung\", grid=False)\n",
    "plt.axhline(y=0, color=\"k\", linestyle=\"--\")\n",
    "trial_data.plot.scatter(\"Behandlung\", \"Unterschied\")\n",
    "plt.axhline(y=0, color=\"k\", linestyle=\"--\")\n",
    "plt.show()"
   ]
  },
  {
   "cell_type": "code",
   "execution_count": null,
   "id": "4bb2023d-5b21-4d1b-81d8-fa3f5848dc5f",
   "metadata": {},
   "outputs": [],
   "source": [
    "p = trial_data.boxplot(column=\"Unterschied\", by=\"Behandlung\", grid=False)\n",
    "plt.axhline(y=0, color=\"k\", linestyle=\"--\")\n",
    "for b, d in enumerate(trial_data[\"Unterschied\"]):\n",
    "    behandlung = trial_data[\"Behandlung\"][b]\n",
    "    if behandlung == \"PilleA\":\n",
    "        x = 1\n",
    "    elif behandlung == \"PilleB\":\n",
    "        x = 2\n",
    "    elif behandlung == \"PilleC\":\n",
    "        x = 3\n",
    "    plt.scatter(x, d, c=\"blue\")\n",
    "plt.show()"
   ]
  },
  {
   "cell_type": "code",
   "execution_count": null,
   "id": "5dc55291-ff82-448b-ba6c-053f45e47c3f",
   "metadata": {},
   "outputs": [],
   "source": [
    "## density plot is not supported by Jupyter\n",
    "## trial_pivot = trial_data.reset_index().pivot(columns=\"Behandlung\", values=\"Unterschied\")\n",
    "## trial_pivot.plot.density()\n",
    "## plt.axvline(x=0, c=\"k\", linestyle=\"--\")\n",
    "## plt.show()"
   ]
  },
  {
   "cell_type": "markdown",
   "id": "bffcd6d2-43a4-471c-a9e0-9de7497b20a5",
   "metadata": {},
   "source": [
    "## Eine kleine statistische Analyse"
   ]
  },
  {
   "cell_type": "code",
   "execution_count": null,
   "id": "00cabf4f-2448-432c-bdac-b66dbbe6c8e8",
   "metadata": {},
   "outputs": [],
   "source": [
    "import statsmodels as sm\n",
    "import statsmodels.api as sma\n",
    "from statsmodels.formula.api import ols"
   ]
  },
  {
   "cell_type": "code",
   "execution_count": null,
   "id": "836159b9-6a0c-41d5-9243-fba4ad41ab36",
   "metadata": {},
   "outputs": [],
   "source": [
    "pille_effect = ols('Unterschied ~ Behandlung', data = trial_data).fit()\n",
    "print(pille_effect.summary())"
   ]
  },
  {
   "cell_type": "code",
   "execution_count": null,
   "id": "b9696e45-0e03-476c-80c9-ec59932bae40",
   "metadata": {},
   "outputs": [],
   "source": [
    "table = sma.stats.anova_lm(pille_effect)\n",
    "print(table)"
   ]
  },
  {
   "cell_type": "markdown",
   "id": "d49934d2-106f-4ef8-8cb6-b809c58a6a79",
   "metadata": {},
   "source": [
    "## Die Daten exportieren"
   ]
  },
  {
   "cell_type": "code",
   "execution_count": null,
   "id": "94a4523d-e587-4ff4-9619-eb3931932210",
   "metadata": {},
   "outputs": [],
   "source": [
    "trial_data[['Behandlung', 'Vor', 'Nach']].to_csv(\"20231108-simulated-trial-data.tsv\", sep=\"\\t\", index=False)"
   ]
  },
  {
   "cell_type": "markdown",
   "id": "49586425-25b0-4de3-91d9-230573bfe9e1",
   "metadata": {},
   "source": [
    "## Fragen"
   ]
  },
  {
   "cell_type": "markdown",
   "id": "b3be157d-a7de-445c-8f5c-0a045ec667a7",
   "metadata": {},
   "source": [
    "1. Wer glaubt, dass ihre/sein Pille hat funktioniert für sie/ihn? Wer glaubt, dass die Pille nicht funktioniert hat?\n",
    "2. Wenn wir davon ausgehen, dass Pille A, Pille B, Pille C jeweilse Placebo, ein neu Medikament von einer niedriger Dose, und das selbe neue Medikament von einer höheren Dose sind. Welche Schlussfolgerungen können wir ziehen?\n",
    "3. Um das Medikament zu mehr Patienten bringen, worauf müssen wir noch beachten?\n",
    "4. Was können wir noch mit den Daten machen?"
   ]
  }
 ],
 "metadata": {
  "kernelspec": {
   "display_name": "Python 3 (ipykernel)",
   "language": "python",
   "name": "python3"
  },
  "language_info": {
   "codemirror_mode": {
    "name": "ipython",
    "version": 3
   },
   "file_extension": ".py",
   "mimetype": "text/x-python",
   "name": "python",
   "nbconvert_exporter": "python",
   "pygments_lexer": "ipython3",
   "version": "3.11.3"
  }
 },
 "nbformat": 4,
 "nbformat_minor": 5
}
