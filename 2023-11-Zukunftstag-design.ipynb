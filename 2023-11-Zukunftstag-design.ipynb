{
 "cells": [
  {
   "cell_type": "markdown",
   "id": "363a89a3-d29d-4bdc-8118-8845f47705ee",
   "metadata": {},
   "source": [
    "# Zukunftstag 2023\n",
    "\n",
    "Jitao David Zhang, November 2023"
   ]
  },
  {
   "cell_type": "markdown",
   "id": "63655593-c0f2-4e54-8ad3-1a791d7bad69",
   "metadata": {},
   "source": [
    "Wir lernen gemeinsam Jupyter Lab kennen mit eine simulierte klinische Studie. Wir werden die Daten mit Jupyter Notebook analysieren und visualisieren, und die Daten gemeinsam interpretieren."
   ]
  },
  {
   "cell_type": "markdown",
   "id": "543f8809-5d66-4121-b032-cde4eb672284",
   "metadata": {},
   "source": [
    "## Test that the notebook works"
   ]
  },
  {
   "cell_type": "code",
   "execution_count": 1,
   "id": "3417144d-37e9-46b9-b17d-1420b5ac885c",
   "metadata": {},
   "outputs": [
    {
     "data": {
      "text/plain": [
       "12"
      ]
     },
     "execution_count": 1,
     "metadata": {},
     "output_type": "execute_result"
    }
   ],
   "source": [
    "3 + 9"
   ]
  },
  {
   "cell_type": "code",
   "execution_count": 2,
   "id": "ed84d115-478d-485f-83db-5f97df1cf54d",
   "metadata": {},
   "outputs": [
    {
     "data": {
      "text/plain": [
       "3.0"
      ]
     },
     "execution_count": 2,
     "metadata": {},
     "output_type": "execute_result"
    }
   ],
   "source": [
    "9/3"
   ]
  },
  {
   "cell_type": "code",
   "execution_count": 3,
   "id": "aba781fa-ea66-4fe3-b9e5-d8abb1115be6",
   "metadata": {},
   "outputs": [
    {
     "name": "stdout",
     "output_type": "stream",
     "text": [
      "Hello, David\n"
     ]
    }
   ],
   "source": [
    "my_name = \"David\"\n",
    "welcome = \"Hello, \" + my_name\n",
    "print(welcome)"
   ]
  },
  {
   "cell_type": "code",
   "execution_count": 4,
   "id": "e5c03bde-7b8d-40ac-a247-13c058beaa24",
   "metadata": {},
   "outputs": [],
   "source": [
    "import numpy as np"
   ]
  },
  {
   "cell_type": "code",
   "execution_count": 5,
   "id": "f3f424ed-f71b-4634-a645-ae117b35aedd",
   "metadata": {},
   "outputs": [
    {
     "data": {
      "text/plain": [
       "45"
      ]
     },
     "execution_count": 5,
     "metadata": {},
     "output_type": "execute_result"
    }
   ],
   "source": [
    "my_numbers = range(1, 10)\n",
    "np.sum(my_numbers)"
   ]
  },
  {
   "cell_type": "code",
   "execution_count": 6,
   "id": "599c505b-1c93-473f-b167-7fe32effaaa6",
   "metadata": {},
   "outputs": [
    {
     "data": {
      "text/plain": [
       "4950"
      ]
     },
     "execution_count": 6,
     "metadata": {},
     "output_type": "execute_result"
    }
   ],
   "source": [
    "my_numbers_2 = range(1, 100)\n",
    "np.sum(my_numbers_2)"
   ]
  },
  {
   "cell_type": "markdown",
   "id": "a5991a26-92b9-4c07-8445-0fcc2186c6d0",
   "metadata": {},
   "source": [
    "# Simulate the study"
   ]
  },
  {
   "cell_type": "code",
   "execution_count": 7,
   "id": "f5c9f8f1-42a7-4024-8006-88ac9fc1395d",
   "metadata": {},
   "outputs": [],
   "source": [
    "import pandas as pd"
   ]
  },
  {
   "cell_type": "code",
   "execution_count": 8,
   "id": "e92b98b9-b200-45a9-83f0-2baaad8e3bda",
   "metadata": {},
   "outputs": [],
   "source": [
    "np.random.seed(1887)"
   ]
  },
  {
   "cell_type": "code",
   "execution_count": 9,
   "id": "a6091a55-212f-4d84-8756-e50e39e82491",
   "metadata": {},
   "outputs": [
    {
     "data": {
      "text/plain": [
       "30"
      ]
     },
     "execution_count": 9,
     "metadata": {},
     "output_type": "execute_result"
    }
   ],
   "source": [
    "names = [\"Emma\", \"Olivia\", \"Emily\", \"James\", \"Daniel\",\n",
    "         \"Benjamin\", \"Michael\", \"Alexander\", \"Jacob\", \"Samuel\",\n",
    "         \"Isabella\", \"Thomas\", \"Sarah\", \"Ava\", \"Charlotte\", \"Elizabeth\",\n",
    "         \"Liam\", \"Mia\", \"Ethan\", \"Ella\", \"Sophia\", \"Joshua\", \"Oliver\", \"Grace\",\n",
    "         \"Anna\", \"Lena\", \"Sophia\", \"Laila\", \"Emma\", \"Karl\"]\n",
    "len(names)"
   ]
  },
  {
   "cell_type": "code",
   "execution_count": 10,
   "id": "3760f8e2-b7a4-4763-ad35-cc8e11bfce14",
   "metadata": {},
   "outputs": [],
   "source": [
    "pre_g0 = np.random.normal(8, 1.5, size=10)\n",
    "post_g0 = np.random.normal(8, 1.5, size=10)\n",
    "pre_g1 = np.random.normal(8, 1.5, size=10)\n",
    "post_g1 = np.random.normal(7, 1.5, size=10)\n",
    "pre_g2 = np.random.normal(8, 1.5, size=10)\n",
    "post_g2 = np.random.normal(5, 1.5, size=10)\n",
    "pre_all = np.clip(np.concatenate((pre_g0, pre_g1, pre_g2), axis=None), 0, 10)\n",
    "post_all = np.clip(np.concatenate((post_g0, post_g1, post_g2), axis=None), 0, 10)"
   ]
  },
  {
   "cell_type": "code",
   "execution_count": 11,
   "id": "94f7b5a6-6cd8-4d0a-b9f2-6213bb03460f",
   "metadata": {},
   "outputs": [],
   "source": [
    "treatments = np.concatenate(([\"PilleA\"] * 10, [\"PilleB\"] * 10, [\"PilleC\"] * 10), axis=None)"
   ]
  },
  {
   "cell_type": "code",
   "execution_count": 12,
   "id": "1733c1f4-3567-4e52-8580-13381d2ea315",
   "metadata": {},
   "outputs": [],
   "source": [
    "trial_data = pd.DataFrame({\"Name\":names,\n",
    "                          \"Behandlung\": treatments,\n",
    "                          \"Vor\": pre_all,\n",
    "                          \"Nach\": post_all},\n",
    "                         index=names)"
   ]
  },
  {
   "cell_type": "code",
   "execution_count": 13,
   "id": "f2925a58-e98d-4d00-9cf4-90ef04302239",
   "metadata": {},
   "outputs": [
    {
     "name": "stdout",
     "output_type": "stream",
     "text": [
      "                Name Behandlung        Vor       Nach\n",
      "Emma            Emma     PilleA   8.347596   7.951819\n",
      "Olivia        Olivia     PilleA   8.602152   6.491120\n",
      "Emily          Emily     PilleA   8.476754   6.688489\n",
      "James          James     PilleA  10.000000   6.074195\n",
      "Daniel        Daniel     PilleA   7.734438   7.085100\n",
      "Benjamin    Benjamin     PilleA   6.408309   6.973887\n",
      "Michael      Michael     PilleA  10.000000   8.972929\n",
      "Alexander  Alexander     PilleA   7.402984   7.780026\n",
      "Jacob          Jacob     PilleA   5.666638   8.915180\n",
      "Samuel        Samuel     PilleA   5.966815  10.000000\n",
      "Isabella    Isabella     PilleB   9.353107   5.581717\n",
      "Thomas        Thomas     PilleB   8.870751   8.009993\n",
      "Sarah          Sarah     PilleB   9.329035   8.967734\n",
      "Ava              Ava     PilleB   9.430377   8.120269\n",
      "Charlotte  Charlotte     PilleB   6.653851   7.691863\n",
      "Elizabeth  Elizabeth     PilleB   7.416059   5.011575\n",
      "Liam            Liam     PilleB   8.001598   5.179692\n",
      "Mia              Mia     PilleB  10.000000   6.122846\n",
      "Ethan          Ethan     PilleB   7.486437  10.000000\n",
      "Ella            Ella     PilleB   5.550307   8.957143\n",
      "Sophia        Sophia     PilleC   7.713658   4.386669\n",
      "Joshua        Joshua     PilleC   8.286188   4.032704\n",
      "Oliver        Oliver     PilleC   8.448783   3.907272\n",
      "Grace          Grace     PilleC   8.312772   5.523482\n",
      "Anna            Anna     PilleC   7.241160   3.511286\n",
      "Lena            Lena     PilleC   7.245475   3.575103\n",
      "Sophia        Sophia     PilleC   8.344427   4.736567\n",
      "Laila          Laila     PilleC   8.172622   6.623793\n",
      "Emma            Emma     PilleC   7.824780   4.982741\n",
      "Karl            Karl     PilleC   8.125350   3.313725\n"
     ]
    }
   ],
   "source": [
    "print(trial_data)"
   ]
  },
  {
   "cell_type": "code",
   "execution_count": 14,
   "id": "f94e3880-ca35-4655-8ed3-c02d3b4020fa",
   "metadata": {},
   "outputs": [
    {
     "data": {
      "text/html": [
       "<div>\n",
       "<style scoped>\n",
       "    .dataframe tbody tr th:only-of-type {\n",
       "        vertical-align: middle;\n",
       "    }\n",
       "\n",
       "    .dataframe tbody tr th {\n",
       "        vertical-align: top;\n",
       "    }\n",
       "\n",
       "    .dataframe thead th {\n",
       "        text-align: right;\n",
       "    }\n",
       "</style>\n",
       "<table border=\"1\" class=\"dataframe\">\n",
       "  <thead>\n",
       "    <tr style=\"text-align: right;\">\n",
       "      <th></th>\n",
       "      <th>Name</th>\n",
       "      <th>Behandlung</th>\n",
       "      <th>Vor</th>\n",
       "      <th>Nach</th>\n",
       "    </tr>\n",
       "  </thead>\n",
       "  <tbody>\n",
       "    <tr>\n",
       "      <th>Alexander</th>\n",
       "      <td>Alexander</td>\n",
       "      <td>PilleA</td>\n",
       "      <td>7.402984</td>\n",
       "      <td>7.780026</td>\n",
       "    </tr>\n",
       "    <tr>\n",
       "      <th>Benjamin</th>\n",
       "      <td>Benjamin</td>\n",
       "      <td>PilleA</td>\n",
       "      <td>6.408309</td>\n",
       "      <td>6.973887</td>\n",
       "    </tr>\n",
       "    <tr>\n",
       "      <th>Daniel</th>\n",
       "      <td>Daniel</td>\n",
       "      <td>PilleA</td>\n",
       "      <td>7.734438</td>\n",
       "      <td>7.085100</td>\n",
       "    </tr>\n",
       "    <tr>\n",
       "      <th>Emily</th>\n",
       "      <td>Emily</td>\n",
       "      <td>PilleA</td>\n",
       "      <td>8.476754</td>\n",
       "      <td>6.688489</td>\n",
       "    </tr>\n",
       "    <tr>\n",
       "      <th>Emma</th>\n",
       "      <td>Emma</td>\n",
       "      <td>PilleA</td>\n",
       "      <td>8.347596</td>\n",
       "      <td>7.951819</td>\n",
       "    </tr>\n",
       "    <tr>\n",
       "      <th>Jacob</th>\n",
       "      <td>Jacob</td>\n",
       "      <td>PilleA</td>\n",
       "      <td>5.666638</td>\n",
       "      <td>8.915180</td>\n",
       "    </tr>\n",
       "    <tr>\n",
       "      <th>James</th>\n",
       "      <td>James</td>\n",
       "      <td>PilleA</td>\n",
       "      <td>10.000000</td>\n",
       "      <td>6.074195</td>\n",
       "    </tr>\n",
       "    <tr>\n",
       "      <th>Michael</th>\n",
       "      <td>Michael</td>\n",
       "      <td>PilleA</td>\n",
       "      <td>10.000000</td>\n",
       "      <td>8.972929</td>\n",
       "    </tr>\n",
       "    <tr>\n",
       "      <th>Olivia</th>\n",
       "      <td>Olivia</td>\n",
       "      <td>PilleA</td>\n",
       "      <td>8.602152</td>\n",
       "      <td>6.491120</td>\n",
       "    </tr>\n",
       "    <tr>\n",
       "      <th>Samuel</th>\n",
       "      <td>Samuel</td>\n",
       "      <td>PilleA</td>\n",
       "      <td>5.966815</td>\n",
       "      <td>10.000000</td>\n",
       "    </tr>\n",
       "    <tr>\n",
       "      <th>Ava</th>\n",
       "      <td>Ava</td>\n",
       "      <td>PilleB</td>\n",
       "      <td>9.430377</td>\n",
       "      <td>8.120269</td>\n",
       "    </tr>\n",
       "    <tr>\n",
       "      <th>Charlotte</th>\n",
       "      <td>Charlotte</td>\n",
       "      <td>PilleB</td>\n",
       "      <td>6.653851</td>\n",
       "      <td>7.691863</td>\n",
       "    </tr>\n",
       "    <tr>\n",
       "      <th>Elizabeth</th>\n",
       "      <td>Elizabeth</td>\n",
       "      <td>PilleB</td>\n",
       "      <td>7.416059</td>\n",
       "      <td>5.011575</td>\n",
       "    </tr>\n",
       "    <tr>\n",
       "      <th>Ella</th>\n",
       "      <td>Ella</td>\n",
       "      <td>PilleB</td>\n",
       "      <td>5.550307</td>\n",
       "      <td>8.957143</td>\n",
       "    </tr>\n",
       "    <tr>\n",
       "      <th>Ethan</th>\n",
       "      <td>Ethan</td>\n",
       "      <td>PilleB</td>\n",
       "      <td>7.486437</td>\n",
       "      <td>10.000000</td>\n",
       "    </tr>\n",
       "    <tr>\n",
       "      <th>Isabella</th>\n",
       "      <td>Isabella</td>\n",
       "      <td>PilleB</td>\n",
       "      <td>9.353107</td>\n",
       "      <td>5.581717</td>\n",
       "    </tr>\n",
       "    <tr>\n",
       "      <th>Liam</th>\n",
       "      <td>Liam</td>\n",
       "      <td>PilleB</td>\n",
       "      <td>8.001598</td>\n",
       "      <td>5.179692</td>\n",
       "    </tr>\n",
       "    <tr>\n",
       "      <th>Mia</th>\n",
       "      <td>Mia</td>\n",
       "      <td>PilleB</td>\n",
       "      <td>10.000000</td>\n",
       "      <td>6.122846</td>\n",
       "    </tr>\n",
       "    <tr>\n",
       "      <th>Sarah</th>\n",
       "      <td>Sarah</td>\n",
       "      <td>PilleB</td>\n",
       "      <td>9.329035</td>\n",
       "      <td>8.967734</td>\n",
       "    </tr>\n",
       "    <tr>\n",
       "      <th>Thomas</th>\n",
       "      <td>Thomas</td>\n",
       "      <td>PilleB</td>\n",
       "      <td>8.870751</td>\n",
       "      <td>8.009993</td>\n",
       "    </tr>\n",
       "    <tr>\n",
       "      <th>Anna</th>\n",
       "      <td>Anna</td>\n",
       "      <td>PilleC</td>\n",
       "      <td>7.241160</td>\n",
       "      <td>3.511286</td>\n",
       "    </tr>\n",
       "    <tr>\n",
       "      <th>Emma</th>\n",
       "      <td>Emma</td>\n",
       "      <td>PilleC</td>\n",
       "      <td>7.824780</td>\n",
       "      <td>4.982741</td>\n",
       "    </tr>\n",
       "    <tr>\n",
       "      <th>Grace</th>\n",
       "      <td>Grace</td>\n",
       "      <td>PilleC</td>\n",
       "      <td>8.312772</td>\n",
       "      <td>5.523482</td>\n",
       "    </tr>\n",
       "    <tr>\n",
       "      <th>Joshua</th>\n",
       "      <td>Joshua</td>\n",
       "      <td>PilleC</td>\n",
       "      <td>8.286188</td>\n",
       "      <td>4.032704</td>\n",
       "    </tr>\n",
       "    <tr>\n",
       "      <th>Karl</th>\n",
       "      <td>Karl</td>\n",
       "      <td>PilleC</td>\n",
       "      <td>8.125350</td>\n",
       "      <td>3.313725</td>\n",
       "    </tr>\n",
       "    <tr>\n",
       "      <th>Laila</th>\n",
       "      <td>Laila</td>\n",
       "      <td>PilleC</td>\n",
       "      <td>8.172622</td>\n",
       "      <td>6.623793</td>\n",
       "    </tr>\n",
       "    <tr>\n",
       "      <th>Lena</th>\n",
       "      <td>Lena</td>\n",
       "      <td>PilleC</td>\n",
       "      <td>7.245475</td>\n",
       "      <td>3.575103</td>\n",
       "    </tr>\n",
       "    <tr>\n",
       "      <th>Oliver</th>\n",
       "      <td>Oliver</td>\n",
       "      <td>PilleC</td>\n",
       "      <td>8.448783</td>\n",
       "      <td>3.907272</td>\n",
       "    </tr>\n",
       "    <tr>\n",
       "      <th>Sophia</th>\n",
       "      <td>Sophia</td>\n",
       "      <td>PilleC</td>\n",
       "      <td>7.713658</td>\n",
       "      <td>4.386669</td>\n",
       "    </tr>\n",
       "    <tr>\n",
       "      <th>Sophia</th>\n",
       "      <td>Sophia</td>\n",
       "      <td>PilleC</td>\n",
       "      <td>8.344427</td>\n",
       "      <td>4.736567</td>\n",
       "    </tr>\n",
       "  </tbody>\n",
       "</table>\n",
       "</div>"
      ],
      "text/plain": [
       "                Name Behandlung        Vor       Nach\n",
       "Alexander  Alexander     PilleA   7.402984   7.780026\n",
       "Benjamin    Benjamin     PilleA   6.408309   6.973887\n",
       "Daniel        Daniel     PilleA   7.734438   7.085100\n",
       "Emily          Emily     PilleA   8.476754   6.688489\n",
       "Emma            Emma     PilleA   8.347596   7.951819\n",
       "Jacob          Jacob     PilleA   5.666638   8.915180\n",
       "James          James     PilleA  10.000000   6.074195\n",
       "Michael      Michael     PilleA  10.000000   8.972929\n",
       "Olivia        Olivia     PilleA   8.602152   6.491120\n",
       "Samuel        Samuel     PilleA   5.966815  10.000000\n",
       "Ava              Ava     PilleB   9.430377   8.120269\n",
       "Charlotte  Charlotte     PilleB   6.653851   7.691863\n",
       "Elizabeth  Elizabeth     PilleB   7.416059   5.011575\n",
       "Ella            Ella     PilleB   5.550307   8.957143\n",
       "Ethan          Ethan     PilleB   7.486437  10.000000\n",
       "Isabella    Isabella     PilleB   9.353107   5.581717\n",
       "Liam            Liam     PilleB   8.001598   5.179692\n",
       "Mia              Mia     PilleB  10.000000   6.122846\n",
       "Sarah          Sarah     PilleB   9.329035   8.967734\n",
       "Thomas        Thomas     PilleB   8.870751   8.009993\n",
       "Anna            Anna     PilleC   7.241160   3.511286\n",
       "Emma            Emma     PilleC   7.824780   4.982741\n",
       "Grace          Grace     PilleC   8.312772   5.523482\n",
       "Joshua        Joshua     PilleC   8.286188   4.032704\n",
       "Karl            Karl     PilleC   8.125350   3.313725\n",
       "Laila          Laila     PilleC   8.172622   6.623793\n",
       "Lena            Lena     PilleC   7.245475   3.575103\n",
       "Oliver        Oliver     PilleC   8.448783   3.907272\n",
       "Sophia        Sophia     PilleC   7.713658   4.386669\n",
       "Sophia        Sophia     PilleC   8.344427   4.736567"
      ]
     },
     "execution_count": 14,
     "metadata": {},
     "output_type": "execute_result"
    }
   ],
   "source": [
    "trial_data.sort_values(by=[\"Behandlung\", \"Name\"])"
   ]
  },
  {
   "cell_type": "code",
   "execution_count": 15,
   "id": "4221ab0b-9220-4bc7-8b08-e8fffc4351a3",
   "metadata": {},
   "outputs": [],
   "source": [
    "import matplotlib.style as style\n",
    "import matplotlib.pyplot as plt\n",
    "style.use(\"fast\")"
   ]
  },
  {
   "cell_type": "code",
   "execution_count": 16,
   "id": "deb03989-0741-493e-9bdf-4630cebcc2d8",
   "metadata": {},
   "outputs": [
    {
     "data": {
      "image/png": "[encoded data removed]",
      "text/plain": [
       "<Figure size 640x480 with 2 Axes>"
      ]
     },
     "metadata": {},
     "output_type": "display_data"
    }
   ],
   "source": [
    "trial_data.boxplot(column=[\"Vor\", \"Nach\"], by=\"Behandlung\")\n",
    "plt.show()"
   ]
  },
  {
   "cell_type": "code",
   "execution_count": 17,
   "id": "4cf17ae5-9427-49a4-b5b9-de5d2688390e",
   "metadata": {},
   "outputs": [
    {
     "name": "stdout",
     "output_type": "stream",
     "text": [
      "                Name Behandlung        Vor       Nach  Unterschied\n",
      "Emma            Emma     PilleA   8.347596   7.951819    -0.395777\n",
      "Olivia        Olivia     PilleA   8.602152   6.491120    -2.111032\n",
      "Emily          Emily     PilleA   8.476754   6.688489    -1.788265\n",
      "James          James     PilleA  10.000000   6.074195    -3.925805\n",
      "Daniel        Daniel     PilleA   7.734438   7.085100    -0.649338\n",
      "Benjamin    Benjamin     PilleA   6.408309   6.973887     0.565578\n",
      "Michael      Michael     PilleA  10.000000   8.972929    -1.027071\n",
      "Alexander  Alexander     PilleA   7.402984   7.780026     0.377042\n",
      "Jacob          Jacob     PilleA   5.666638   8.915180     3.248542\n",
      "Samuel        Samuel     PilleA   5.966815  10.000000     4.033185\n",
      "Isabella    Isabella     PilleB   9.353107   5.581717    -3.771389\n",
      "Thomas        Thomas     PilleB   8.870751   8.009993    -0.860758\n",
      "Sarah          Sarah     PilleB   9.329035   8.967734    -0.361300\n",
      "Ava              Ava     PilleB   9.430377   8.120269    -1.310108\n",
      "Charlotte  Charlotte     PilleB   6.653851   7.691863     1.038011\n",
      "Elizabeth  Elizabeth     PilleB   7.416059   5.011575    -2.404485\n",
      "Liam            Liam     PilleB   8.001598   5.179692    -2.821906\n",
      "Mia              Mia     PilleB  10.000000   6.122846    -3.877154\n",
      "Ethan          Ethan     PilleB   7.486437  10.000000     2.513563\n",
      "Ella            Ella     PilleB   5.550307   8.957143     3.406836\n",
      "Sophia        Sophia     PilleC   7.713658   4.386669    -3.326989\n",
      "Joshua        Joshua     PilleC   8.286188   4.032704    -4.253484\n",
      "Oliver        Oliver     PilleC   8.448783   3.907272    -4.541511\n",
      "Grace          Grace     PilleC   8.312772   5.523482    -2.789290\n",
      "Anna            Anna     PilleC   7.241160   3.511286    -3.729875\n",
      "Lena            Lena     PilleC   7.245475   3.575103    -3.670372\n",
      "Sophia        Sophia     PilleC   8.344427   4.736567    -3.607861\n",
      "Laila          Laila     PilleC   8.172622   6.623793    -1.548830\n",
      "Emma            Emma     PilleC   7.824780   4.982741    -2.842039\n",
      "Karl            Karl     PilleC   8.125350   3.313725    -4.811625\n"
     ]
    }
   ],
   "source": [
    "trial_data[\"Unterschied\"] = trial_data[\"Nach\"] - trial_data[\"Vor\"]\n",
    "print(trial_data)"
   ]
  },
  {
   "cell_type": "code",
   "execution_count": 18,
   "id": "2925e4a2-96e4-4b11-81bc-dec7d5db1406",
   "metadata": {},
   "outputs": [
    {
     "data": {
      "text/html": [
       "<div>\n",
       "<style scoped>\n",
       "    .dataframe tbody tr th:only-of-type {\n",
       "        vertical-align: middle;\n",
       "    }\n",
       "\n",
       "    .dataframe tbody tr th {\n",
       "        vertical-align: top;\n",
       "    }\n",
       "\n",
       "    .dataframe thead th {\n",
       "        text-align: right;\n",
       "    }\n",
       "</style>\n",
       "<table border=\"1\" class=\"dataframe\">\n",
       "  <thead>\n",
       "    <tr style=\"text-align: right;\">\n",
       "      <th></th>\n",
       "      <th>Name</th>\n",
       "      <th>Behandlung</th>\n",
       "      <th>Vor</th>\n",
       "      <th>Nach</th>\n",
       "      <th>Unterschied</th>\n",
       "    </tr>\n",
       "  </thead>\n",
       "  <tbody>\n",
       "    <tr>\n",
       "      <th>Samuel</th>\n",
       "      <td>Samuel</td>\n",
       "      <td>PilleA</td>\n",
       "      <td>5.966815</td>\n",
       "      <td>10.000000</td>\n",
       "      <td>4.033185</td>\n",
       "    </tr>\n",
       "    <tr>\n",
       "      <th>Ella</th>\n",
       "      <td>Ella</td>\n",
       "      <td>PilleB</td>\n",
       "      <td>5.550307</td>\n",
       "      <td>8.957143</td>\n",
       "      <td>3.406836</td>\n",
       "    </tr>\n",
       "    <tr>\n",
       "      <th>Jacob</th>\n",
       "      <td>Jacob</td>\n",
       "      <td>PilleA</td>\n",
       "      <td>5.666638</td>\n",
       "      <td>8.915180</td>\n",
       "      <td>3.248542</td>\n",
       "    </tr>\n",
       "    <tr>\n",
       "      <th>Ethan</th>\n",
       "      <td>Ethan</td>\n",
       "      <td>PilleB</td>\n",
       "      <td>7.486437</td>\n",
       "      <td>10.000000</td>\n",
       "      <td>2.513563</td>\n",
       "    </tr>\n",
       "    <tr>\n",
       "      <th>Charlotte</th>\n",
       "      <td>Charlotte</td>\n",
       "      <td>PilleB</td>\n",
       "      <td>6.653851</td>\n",
       "      <td>7.691863</td>\n",
       "      <td>1.038011</td>\n",
       "    </tr>\n",
       "    <tr>\n",
       "      <th>Benjamin</th>\n",
       "      <td>Benjamin</td>\n",
       "      <td>PilleA</td>\n",
       "      <td>6.408309</td>\n",
       "      <td>6.973887</td>\n",
       "      <td>0.565578</td>\n",
       "    </tr>\n",
       "    <tr>\n",
       "      <th>Alexander</th>\n",
       "      <td>Alexander</td>\n",
       "      <td>PilleA</td>\n",
       "      <td>7.402984</td>\n",
       "      <td>7.780026</td>\n",
       "      <td>0.377042</td>\n",
       "    </tr>\n",
       "    <tr>\n",
       "      <th>Sarah</th>\n",
       "      <td>Sarah</td>\n",
       "      <td>PilleB</td>\n",
       "      <td>9.329035</td>\n",
       "      <td>8.967734</td>\n",
       "      <td>-0.361300</td>\n",
       "    </tr>\n",
       "    <tr>\n",
       "      <th>Emma</th>\n",
       "      <td>Emma</td>\n",
       "      <td>PilleA</td>\n",
       "      <td>8.347596</td>\n",
       "      <td>7.951819</td>\n",
       "      <td>-0.395777</td>\n",
       "    </tr>\n",
       "    <tr>\n",
       "      <th>Daniel</th>\n",
       "      <td>Daniel</td>\n",
       "      <td>PilleA</td>\n",
       "      <td>7.734438</td>\n",
       "      <td>7.085100</td>\n",
       "      <td>-0.649338</td>\n",
       "    </tr>\n",
       "    <tr>\n",
       "      <th>Thomas</th>\n",
       "      <td>Thomas</td>\n",
       "      <td>PilleB</td>\n",
       "      <td>8.870751</td>\n",
       "      <td>8.009993</td>\n",
       "      <td>-0.860758</td>\n",
       "    </tr>\n",
       "    <tr>\n",
       "      <th>Michael</th>\n",
       "      <td>Michael</td>\n",
       "      <td>PilleA</td>\n",
       "      <td>10.000000</td>\n",
       "      <td>8.972929</td>\n",
       "      <td>-1.027071</td>\n",
       "    </tr>\n",
       "    <tr>\n",
       "      <th>Ava</th>\n",
       "      <td>Ava</td>\n",
       "      <td>PilleB</td>\n",
       "      <td>9.430377</td>\n",
       "      <td>8.120269</td>\n",
       "      <td>-1.310108</td>\n",
       "    </tr>\n",
       "    <tr>\n",
       "      <th>Laila</th>\n",
       "      <td>Laila</td>\n",
       "      <td>PilleC</td>\n",
       "      <td>8.172622</td>\n",
       "      <td>6.623793</td>\n",
       "      <td>-1.548830</td>\n",
       "    </tr>\n",
       "    <tr>\n",
       "      <th>Emily</th>\n",
       "      <td>Emily</td>\n",
       "      <td>PilleA</td>\n",
       "      <td>8.476754</td>\n",
       "      <td>6.688489</td>\n",
       "      <td>-1.788265</td>\n",
       "    </tr>\n",
       "    <tr>\n",
       "      <th>Olivia</th>\n",
       "      <td>Olivia</td>\n",
       "      <td>PilleA</td>\n",
       "      <td>8.602152</td>\n",
       "      <td>6.491120</td>\n",
       "      <td>-2.111032</td>\n",
       "    </tr>\n",
       "    <tr>\n",
       "      <th>Elizabeth</th>\n",
       "      <td>Elizabeth</td>\n",
       "      <td>PilleB</td>\n",
       "      <td>7.416059</td>\n",
       "      <td>5.011575</td>\n",
       "      <td>-2.404485</td>\n",
       "    </tr>\n",
       "    <tr>\n",
       "      <th>Grace</th>\n",
       "      <td>Grace</td>\n",
       "      <td>PilleC</td>\n",
       "      <td>8.312772</td>\n",
       "      <td>5.523482</td>\n",
       "      <td>-2.789290</td>\n",
       "    </tr>\n",
       "    <tr>\n",
       "      <th>Liam</th>\n",
       "      <td>Liam</td>\n",
       "      <td>PilleB</td>\n",
       "      <td>8.001598</td>\n",
       "      <td>5.179692</td>\n",
       "      <td>-2.821906</td>\n",
       "    </tr>\n",
       "    <tr>\n",
       "      <th>Emma</th>\n",
       "      <td>Emma</td>\n",
       "      <td>PilleC</td>\n",
       "      <td>7.824780</td>\n",
       "      <td>4.982741</td>\n",
       "      <td>-2.842039</td>\n",
       "    </tr>\n",
       "    <tr>\n",
       "      <th>Sophia</th>\n",
       "      <td>Sophia</td>\n",
       "      <td>PilleC</td>\n",
       "      <td>7.713658</td>\n",
       "      <td>4.386669</td>\n",
       "      <td>-3.326989</td>\n",
       "    </tr>\n",
       "    <tr>\n",
       "      <th>Sophia</th>\n",
       "      <td>Sophia</td>\n",
       "      <td>PilleC</td>\n",
       "      <td>8.344427</td>\n",
       "      <td>4.736567</td>\n",
       "      <td>-3.607861</td>\n",
       "    </tr>\n",
       "    <tr>\n",
       "      <th>Lena</th>\n",
       "      <td>Lena</td>\n",
       "      <td>PilleC</td>\n",
       "      <td>7.245475</td>\n",
       "      <td>3.575103</td>\n",
       "      <td>-3.670372</td>\n",
       "    </tr>\n",
       "    <tr>\n",
       "      <th>Anna</th>\n",
       "      <td>Anna</td>\n",
       "      <td>PilleC</td>\n",
       "      <td>7.241160</td>\n",
       "      <td>3.511286</td>\n",
       "      <td>-3.729875</td>\n",
       "    </tr>\n",
       "    <tr>\n",
       "      <th>Isabella</th>\n",
       "      <td>Isabella</td>\n",
       "      <td>PilleB</td>\n",
       "      <td>9.353107</td>\n",
       "      <td>5.581717</td>\n",
       "      <td>-3.771389</td>\n",
       "    </tr>\n",
       "    <tr>\n",
       "      <th>Mia</th>\n",
       "      <td>Mia</td>\n",
       "      <td>PilleB</td>\n",
       "      <td>10.000000</td>\n",
       "      <td>6.122846</td>\n",
       "      <td>-3.877154</td>\n",
       "    </tr>\n",
       "    <tr>\n",
       "      <th>James</th>\n",
       "      <td>James</td>\n",
       "      <td>PilleA</td>\n",
       "      <td>10.000000</td>\n",
       "      <td>6.074195</td>\n",
       "      <td>-3.925805</td>\n",
       "    </tr>\n",
       "    <tr>\n",
       "      <th>Joshua</th>\n",
       "      <td>Joshua</td>\n",
       "      <td>PilleC</td>\n",
       "      <td>8.286188</td>\n",
       "      <td>4.032704</td>\n",
       "      <td>-4.253484</td>\n",
       "    </tr>\n",
       "    <tr>\n",
       "      <th>Oliver</th>\n",
       "      <td>Oliver</td>\n",
       "      <td>PilleC</td>\n",
       "      <td>8.448783</td>\n",
       "      <td>3.907272</td>\n",
       "      <td>-4.541511</td>\n",
       "    </tr>\n",
       "    <tr>\n",
       "      <th>Karl</th>\n",
       "      <td>Karl</td>\n",
       "      <td>PilleC</td>\n",
       "      <td>8.125350</td>\n",
       "      <td>3.313725</td>\n",
       "      <td>-4.811625</td>\n",
       "    </tr>\n",
       "  </tbody>\n",
       "</table>\n",
       "</div>"
      ],
      "text/plain": [
       "                Name Behandlung        Vor       Nach  Unterschied\n",
       "Samuel        Samuel     PilleA   5.966815  10.000000     4.033185\n",
       "Ella            Ella     PilleB   5.550307   8.957143     3.406836\n",
       "Jacob          Jacob     PilleA   5.666638   8.915180     3.248542\n",
       "Ethan          Ethan     PilleB   7.486437  10.000000     2.513563\n",
       "Charlotte  Charlotte     PilleB   6.653851   7.691863     1.038011\n",
       "Benjamin    Benjamin     PilleA   6.408309   6.973887     0.565578\n",
       "Alexander  Alexander     PilleA   7.402984   7.780026     0.377042\n",
       "Sarah          Sarah     PilleB   9.329035   8.967734    -0.361300\n",
       "Emma            Emma     PilleA   8.347596   7.951819    -0.395777\n",
       "Daniel        Daniel     PilleA   7.734438   7.085100    -0.649338\n",
       "Thomas        Thomas     PilleB   8.870751   8.009993    -0.860758\n",
       "Michael      Michael     PilleA  10.000000   8.972929    -1.027071\n",
       "Ava              Ava     PilleB   9.430377   8.120269    -1.310108\n",
       "Laila          Laila     PilleC   8.172622   6.623793    -1.548830\n",
       "Emily          Emily     PilleA   8.476754   6.688489    -1.788265\n",
       "Olivia        Olivia     PilleA   8.602152   6.491120    -2.111032\n",
       "Elizabeth  Elizabeth     PilleB   7.416059   5.011575    -2.404485\n",
       "Grace          Grace     PilleC   8.312772   5.523482    -2.789290\n",
       "Liam            Liam     PilleB   8.001598   5.179692    -2.821906\n",
       "Emma            Emma     PilleC   7.824780   4.982741    -2.842039\n",
       "Sophia        Sophia     PilleC   7.713658   4.386669    -3.326989\n",
       "Sophia        Sophia     PilleC   8.344427   4.736567    -3.607861\n",
       "Lena            Lena     PilleC   7.245475   3.575103    -3.670372\n",
       "Anna            Anna     PilleC   7.241160   3.511286    -3.729875\n",
       "Isabella    Isabella     PilleB   9.353107   5.581717    -3.771389\n",
       "Mia              Mia     PilleB  10.000000   6.122846    -3.877154\n",
       "James          James     PilleA  10.000000   6.074195    -3.925805\n",
       "Joshua        Joshua     PilleC   8.286188   4.032704    -4.253484\n",
       "Oliver        Oliver     PilleC   8.448783   3.907272    -4.541511\n",
       "Karl            Karl     PilleC   8.125350   3.313725    -4.811625"
      ]
     },
     "execution_count": 18,
     "metadata": {},
     "output_type": "execute_result"
    }
   ],
   "source": [
    "trial_data.sort_values(\"Unterschied\", ascending=False)"
   ]
  },
  {
   "cell_type": "code",
   "execution_count": 19,
   "id": "95ce4c9d-ce3f-4296-ba3d-7af09772bc9b",
   "metadata": {},
   "outputs": [
    {
     "data": {
      "image/png": "[encoded data removed]",
      "text/plain": [
       "<Figure size 640x480 with 1 Axes>"
      ]
     },
     "metadata": {},
     "output_type": "display_data"
    },
    {
     "data": {
      "image/png": "[encoded data removed]",
      "text/plain": [
       "<Figure size 640x480 with 1 Axes>"
      ]
     },
     "metadata": {},
     "output_type": "display_data"
    }
   ],
   "source": [
    "trial_data.boxplot(column=\"Unterschied\", by=\"Behandlung\", grid=False)\n",
    "plt.axhline(y=0, color=\"k\", linestyle=\"--\")\n",
    "trial_data.plot.scatter(\"Behandlung\", \"Unterschied\")\n",
    "plt.axhline(y=0, color=\"k\", linestyle=\"--\")\n",
    "plt.show()"
   ]
  },
  {
   "cell_type": "code",
   "execution_count": 20,
   "id": "4bb2023d-5b21-4d1b-81d8-fa3f5848dc5f",
   "metadata": {},
   "outputs": [
    {
     "data": {
      "image/png": "[encoded data removed]",
      "text/plain": [
       "<Figure size 640x480 with 1 Axes>"
      ]
     },
     "metadata": {},
     "output_type": "display_data"
    }
   ],
   "source": [
    "p = trial_data.boxplot(column=\"Unterschied\", by=\"Behandlung\", grid=False)\n",
    "plt.axhline(y=0, color=\"k\", linestyle=\"--\")\n",
    "for b, d in enumerate(trial_data[\"Unterschied\"]):\n",
    "    behandlung = trial_data[\"Behandlung\"][b]\n",
    "    if behandlung == \"PilleA\":\n",
    "        x = 1\n",
    "    elif behandlung == \"PilleB\":\n",
    "        x = 2\n",
    "    elif behandlung == \"PilleC\":\n",
    "        x = 3\n",
    "    plt.scatter(x, d, c=\"blue\")\n",
    "plt.show()"
   ]
  },
  {
   "cell_type": "code",
   "execution_count": 21,
   "id": "5dc55291-ff82-448b-ba6c-053f45e47c3f",
   "metadata": {},
   "outputs": [],
   "source": [
    "## density plot is not supported by Jupyter\n",
    "## trial_pivot = trial_data.reset_index().pivot(columns=\"Behandlung\", values=\"Unterschied\")\n",
    "## trial_pivot.plot.density()\n",
    "## plt.axvline(x=0, c=\"k\", linestyle=\"--\")\n",
    "## plt.show()"
   ]
  }
 ],
 "metadata": {
  "kernelspec": {
   "display_name": "Python 3 (ipykernel)",
   "language": "python",
   "name": "python3"
  },
  "language_info": {
   "codemirror_mode": {
    "name": "ipython",
    "version": 3
   },
   "file_extension": ".py",
   "mimetype": "text/x-python",
   "name": "python",
   "nbconvert_exporter": "python",
   "pygments_lexer": "ipython3",
   "version": "3.11.3"
  }
 },
 "nbformat": 4,
 "nbformat_minor": 5
}
